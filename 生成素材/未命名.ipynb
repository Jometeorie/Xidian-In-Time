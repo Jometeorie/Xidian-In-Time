{
 "cells": [
  {
   "cell_type": "code",
   "execution_count": 1,
   "metadata": {},
   "outputs": [],
   "source": [
    "import os"
   ]
  },
  {
   "cell_type": "code",
   "execution_count": 3,
   "metadata": {},
   "outputs": [
    {
     "data": {
      "text/plain": [
       "['1842',\n",
       " '1924',\n",
       " '1982',\n",
       " '2018',\n",
       " '1989',\n",
       " '2019',\n",
       " '1833',\n",
       " '1822',\n",
       " '1947',\n",
       " '1890',\n",
       " '2002',\n",
       " '1886',\n",
       " '1964',\n",
       " '2008',\n",
       " '2015',\n",
       " '1969',\n",
       " '2016',\n",
       " '1963',\n",
       " '1847',\n",
       " '1973',\n",
       " '1958',\n",
       " '1966',\n",
       " '1866',\n",
       " '2011',\n",
       " '1974',\n",
       " '1949',\n",
       " '2014',\n",
       " '2013',\n",
       " '1870',\n",
       " '1844',\n",
       " '1785',\n",
       " '1937',\n",
       " '1897',\n",
       " '1970',\n",
       " '1875',\n",
       " '1893',\n",
       " '1906',\n",
       " '1985',\n",
       " '2009',\n",
       " '1953',\n",
       " '1837',\n",
       " '2001',\n",
       " '1962',\n",
       " '1986',\n",
       " '2004',\n",
       " '1984',\n",
       " '1987',\n",
       " '1941',\n",
       " '1857',\n",
       " '1891',\n",
       " '1956',\n",
       " '1868',\n",
       " '1952',\n",
       " '1820',\n",
       " '1968',\n",
       " '1920',\n",
       " '1959',\n",
       " '1904',\n",
       " '1976',\n",
       " '1972',\n",
       " '1864',\n",
       " '1998',\n",
       " '1834',\n",
       " '1992',\n",
       " '1854',\n",
       " '1905',\n",
       " '1674',\n",
       " '2003',\n",
       " '2017',\n",
       " '1994',\n",
       " '1967',\n",
       " '2005',\n",
       " '1832',\n",
       " '2006',\n",
       " '1942',\n",
       " '1895',\n",
       " '1957',\n",
       " '1979',\n",
       " '1642',\n",
       " '2000',\n",
       " '2012',\n",
       " '1990',\n",
       " '1912',\n",
       " '1993',\n",
       " '1946',\n",
       " '1960',\n",
       " '1951',\n",
       " '1999',\n",
       " '1978',\n",
       " '1873',\n",
       " '1971',\n",
       " '1831',\n",
       " '1975',\n",
       " '1995',\n",
       " '1988',\n",
       " '1997',\n",
       " '1980',\n",
       " '1954',\n",
       " '1950',\n",
       " '2010',\n",
       " '1805',\n",
       " '1965',\n",
       " '1991',\n",
       " '1981',\n",
       " '1983',\n",
       " '1725',\n",
       " '1888']"
      ]
     },
     "execution_count": 3,
     "metadata": {},
     "output_type": "execute_result"
    }
   ],
   "source": [
    "os.listdir('e')"
   ]
  },
  {
   "cell_type": "code",
   "execution_count": 4,
   "metadata": {},
   "outputs": [],
   "source": [
    "os.mkdir('AllPic')"
   ]
  },
  {
   "cell_type": "code",
   "execution_count": 11,
   "metadata": {},
   "outputs": [],
   "source": [
    "index = 0\n",
    "from PIL import Image\n",
    "for file in os.listdir('country'):\n",
    "    for png_file in os.listdir('country/' + file):\n",
    "        png_image = Image.open('country/' + file + '/' + png_file)\n",
    "        png_image.save('AllPic/' + png_file)\n",
    "        index += 1\n",
    "for file in os.listdir('e'):\n",
    "    for png_file in os.listdir('e/' + file):\n",
    "        png_image = Image.open('e/' + file + '/' + png_file)\n",
    "        png_image.save('AllPic/' + png_file)\n",
    "        index += 1\n",
    "for file in os.listdir('university'):\n",
    "    for png_file in os.listdir('university/' + file):\n",
    "        png_image = Image.open('university/' + file + '/' + png_file)\n",
    "        png_image.save('AllPic/' + png_file)\n",
    "        index += 1"
   ]
  },
  {
   "cell_type": "code",
   "execution_count": null,
   "metadata": {},
   "outputs": [],
   "source": [
    "from PIL import Image\n",
    "png_image = Image.open('country/' + )"
   ]
  }
 ],
 "metadata": {
  "kernelspec": {
   "display_name": "Python 3",
   "language": "python",
   "name": "python3"
  },
  "language_info": {
   "codemirror_mode": {
    "name": "ipython",
    "version": 3
   },
   "file_extension": ".py",
   "mimetype": "text/x-python",
   "name": "python",
   "nbconvert_exporter": "python",
   "pygments_lexer": "ipython3",
   "version": "3.7.4"
  }
 },
 "nbformat": 4,
 "nbformat_minor": 2
}
